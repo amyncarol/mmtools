{
 "cells": [
  {
   "cell_type": "code",
   "execution_count": 1,
   "metadata": {
    "collapsed": false
   },
   "outputs": [
    {
     "name": "stderr",
     "output_type": "stream",
     "text": [
      "//anaconda/lib/python3.5/site-packages/pymatgen/io/vasp/outputs.py:814: UserWarning: No POTCAR file with matching TITEL fields was found in /Users/yao/Google Drive/data/2116/InTl/10atom/Cs2In1In1Br6\n",
      "  \" was found in {}\".format(os.path.abspath(p)))\n",
      "//anaconda/lib/python3.5/site-packages/pymatgen/io/vasp/outputs.py:814: UserWarning: No POTCAR file with matching TITEL fields was found in /Users/yao/Google Drive/data/2116/InTl/10atom/Cs2In1In1Cl6\n",
      "  \" was found in {}\".format(os.path.abspath(p)))\n",
      "//anaconda/lib/python3.5/site-packages/pymatgen/io/vasp/outputs.py:814: UserWarning: No POTCAR file with matching TITEL fields was found in /Users/yao/Google Drive/data/2116/InTl/10atom/Cs2In1In1F6\n",
      "  \" was found in {}\".format(os.path.abspath(p)))\n",
      "//anaconda/lib/python3.5/site-packages/pymatgen/io/vasp/outputs.py:814: UserWarning: No POTCAR file with matching TITEL fields was found in /Users/yao/Google Drive/data/2116/InTl/10atom/Cs2In1In1I6\n",
      "  \" was found in {}\".format(os.path.abspath(p)))\n",
      "//anaconda/lib/python3.5/site-packages/pymatgen/io/vasp/outputs.py:814: UserWarning: No POTCAR file with matching TITEL fields was found in /Users/yao/Google Drive/data/2116/InTl/10atom/Cs2Tl1Tl1Br6\n",
      "  \" was found in {}\".format(os.path.abspath(p)))\n",
      "//anaconda/lib/python3.5/site-packages/pymatgen/io/vasp/outputs.py:814: UserWarning: No POTCAR file with matching TITEL fields was found in /Users/yao/Google Drive/data/2116/InTl/10atom/Cs2Tl1Tl1Cl6\n",
      "  \" was found in {}\".format(os.path.abspath(p)))\n",
      "//anaconda/lib/python3.5/site-packages/pymatgen/io/vasp/outputs.py:814: UserWarning: No POTCAR file with matching TITEL fields was found in /Users/yao/Google Drive/data/2116/InTl/10atom/Cs2Tl1Tl1F6\n",
      "  \" was found in {}\".format(os.path.abspath(p)))\n",
      "//anaconda/lib/python3.5/site-packages/pymatgen/io/vasp/outputs.py:814: UserWarning: No POTCAR file with matching TITEL fields was found in /Users/yao/Google Drive/data/2116/InTl/10atom/Rb2In1In1Br6\n",
      "  \" was found in {}\".format(os.path.abspath(p)))\n",
      "//anaconda/lib/python3.5/site-packages/pymatgen/io/vasp/outputs.py:814: UserWarning: No POTCAR file with matching TITEL fields was found in /Users/yao/Google Drive/data/2116/InTl/10atom/Rb2In1In1Cl6\n",
      "  \" was found in {}\".format(os.path.abspath(p)))\n",
      "//anaconda/lib/python3.5/site-packages/pymatgen/io/vasp/outputs.py:814: UserWarning: No POTCAR file with matching TITEL fields was found in /Users/yao/Google Drive/data/2116/InTl/10atom/Rb2In1In1F6\n",
      "  \" was found in {}\".format(os.path.abspath(p)))\n",
      "//anaconda/lib/python3.5/site-packages/pymatgen/io/vasp/outputs.py:814: UserWarning: No POTCAR file with matching TITEL fields was found in /Users/yao/Google Drive/data/2116/InTl/10atom/Rb2Tl1Tl1Br6\n",
      "  \" was found in {}\".format(os.path.abspath(p)))\n",
      "//anaconda/lib/python3.5/site-packages/pymatgen/io/vasp/outputs.py:814: UserWarning: No POTCAR file with matching TITEL fields was found in /Users/yao/Google Drive/data/2116/InTl/10atom/Rb2Tl1Tl1Cl6\n",
      "  \" was found in {}\".format(os.path.abspath(p)))\n",
      "//anaconda/lib/python3.5/site-packages/pymatgen/io/vasp/outputs.py:814: UserWarning: No POTCAR file with matching TITEL fields was found in /Users/yao/Google Drive/data/2116/InTl/10atom/Rb2Tl1Tl1F6\n",
      "  \" was found in {}\".format(os.path.abspath(p)))\n"
     ]
    }
   ],
   "source": [
    "import os\n",
    "import numpy as np\n",
    "from mmtools.structure.strain import StrainFileWriter\n",
    "from pymatgen.io.vasp.outputs import Vasprun\n",
    "basedir = '/Users/yao/Google Drive/data/2116/InTl/10atom/'\n",
    "compounds = os.listdir(basedir)\n",
    "for i in compounds:\n",
    "    wd = os.path.join(basedir, i)\n",
    "    struc = Vasprun(os.path.join(wd, 'vasprun.xml')).final_structure\n",
    "    strain_list = np.linspace(-0.05, 0.05, 11)\n",
    "    sfw = StrainFileWriter(struc, strain_list, wd)\n",
    "    sfw.write_vasp_files()"
   ]
  },
  {
   "cell_type": "code",
   "execution_count": 7,
   "metadata": {
    "collapsed": false
   },
   "outputs": [
    {
     "data": {
      "text/plain": [
       "['Cs2In1In1Br6',\n",
       " 'Cs2In1In1Cl6',\n",
       " 'Cs2In1In1F6',\n",
       " 'Cs2In1In1I6',\n",
       " 'Cs2Tl1Tl1Br6',\n",
       " 'Cs2Tl1Tl1Cl6',\n",
       " 'Cs2Tl1Tl1F6',\n",
       " 'Rb2In1In1Br6',\n",
       " 'Rb2In1In1Cl6',\n",
       " 'Rb2In1In1F6',\n",
       " 'Rb2Tl1Tl1Br6',\n",
       " 'Rb2Tl1Tl1Cl6',\n",
       " 'Rb2Tl1Tl1F6']"
      ]
     },
     "execution_count": 7,
     "metadata": {},
     "output_type": "execute_result"
    }
   ],
   "source": [
    "compounds"
   ]
  },
  {
   "cell_type": "code",
   "execution_count": null,
   "metadata": {
    "collapsed": true
   },
   "outputs": [],
   "source": []
  }
 ],
 "metadata": {
  "anaconda-cloud": {},
  "kernelspec": {
   "display_name": "Python [default]",
   "language": "python",
   "name": "python3"
  },
  "language_info": {
   "codemirror_mode": {
    "name": "ipython",
    "version": 3
   },
   "file_extension": ".py",
   "mimetype": "text/x-python",
   "name": "python",
   "nbconvert_exporter": "python",
   "pygments_lexer": "ipython3",
   "version": "3.5.2"
  }
 },
 "nbformat": 4,
 "nbformat_minor": 2
}
